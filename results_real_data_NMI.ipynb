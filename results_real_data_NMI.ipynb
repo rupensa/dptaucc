{
 "cells": [
  {
   "cell_type": "code",
   "execution_count": null,
   "metadata": {},
   "outputs": [],
   "source": [
    "import numpy as np\n",
    "import pandas as pd\n",
    "import os \n",
    "import glob \n",
    "import matplotlib.pyplot as plt\n",
    "import matplotlib.pyplot as plt\n",
    "import matplotlib.patheffects as PathEffects\n",
    "import scipy\n",
    "import csv"
   ]
  },
  {
   "cell_type": "code",
   "execution_count": null,
   "metadata": {},
   "outputs": [],
   "source": [
    "datasets = ['classic3', 'cstr', 'hitech', 'k1b', 'reviews', 'sports', 'tr11', 'tr23', 'tr41', 'tr45']\n",
    "n_iter=4\n",
    "\n",
    "for dataset in datasets:\n",
    "    path = os.getcwd()\n",
    "    path=os.path.join(path,\"output/dptaucc\")\n",
    "    f1=os.path.join(path,  f\"{dataset}_{n_iter}_results.csv\")\n",
    "    path = os.getcwd()\n",
    "    path=os.path.join(path,\"output/taucc\")\n",
    "    f2=os.path.join(path,f\"{dataset}_results.csv\")\n",
    "    path = os.getcwd()\n",
    "    path=os.path.join(path,\"output/dpkm\")\n",
    "    f3=os.path.join(path,  f\"{dataset}_results.csv\")\n",
    "    path = os.getcwd()\n",
    "    path=os.path.join(path,\"output/dphd\")\n",
    "    f4=os.path.join(path,  f\"{dataset}_{n_iter}_results.csv\")\n",
    "    path = os.getcwd()\n",
    "    path=os.path.join(path,\"output/dpnmf\")\n",
    "    f5=os.path.join(path,  f\"{dataset}_{n_iter}_results.csv\")\n",
    "    print(f'{dataset}')\n",
    "    data_cc = pd.read_csv(f1)\n",
    "    data_cc_means = data_cc.groupby(['model'], as_index=False).mean()\n",
    "    data_cc_std = data_cc.groupby(['model'], as_index=False).std()\n",
    "    data_cc3 = pd.read_csv(f3)\n",
    "    data_cc3_means = data_cc3.groupby(['model'], as_index=False).mean()\n",
    "    data_cc3_std = data_cc3.groupby(['model'], as_index=False).std()\n",
    "    data_cc4 = pd.read_csv(f4)\n",
    "    data_cc4_means = data_cc4.groupby(['model'], as_index=False).mean()\n",
    "    data_cc4_std = data_cc4.groupby(['model'], as_index=False).std()\n",
    "    data_cc5 = pd.read_csv(f5)\n",
    "    data_cc5_means = data_cc5.groupby(['model'], as_index=False).mean()\n",
    "    data_cc5_std = data_cc5.groupby(['model'], as_index=False).std()\n",
    "    data_cc1 = pd.read_csv(f2)\n",
    "    ccres = data_cc1[\"nmi_x\"].mean()\n",
    "    ccstd = data_cc1[\"nmi_x\"].std()\n",
    "    plt.plot(data_cc_means[\"model\"], data_cc_means[\"nmi_x\"], \"-b\", label=\"DP-\\u03C4CC\")\n",
    "    plt.fill_between(data_cc_means[\"model\"], data_cc_means[\"nmi_x\"]-data_cc_std[\"nmi_x\"], data_cc_means[\"nmi_x\"]+data_cc_std[\"nmi_x\"], alpha=0.2)\n",
    "    plt.plot(data_cc3_means[\"model\"], data_cc3_means[\"nmi_x\"], \":k\", label=\"DP-KMeans\")\n",
    "    plt.fill_between(data_cc3_means[\"model\"], data_cc3_means[\"nmi_x\"]-data_cc3_std[\"nmi_x\"], data_cc3_means[\"nmi_x\"]+data_cc3_std[\"nmi_x\"], alpha=0.2)\n",
    "    plt.plot(data_cc4_means[\"model\"], data_cc4_means[\"nmi_x\"], \"--g\", label=\"DPHD\")\n",
    "    plt.fill_between(data_cc4_means[\"model\"], data_cc4_means[\"nmi_x\"]-data_cc4_std[\"nmi_x\"], data_cc4_means[\"nmi_x\"]+data_cc4_std[\"nmi_x\"], alpha=0.2)\n",
    "    plt.plot(data_cc5_means[\"model\"], data_cc5_means[\"nmi_xc\"], \"-.c\", label=\"DPNMF\")\n",
    "    plt.fill_between(data_cc5_means[\"model\"], data_cc5_means[\"nmi_xc\"]-data_cc5_std[\"nmi_xc\"], data_cc5_means[\"nmi_xc\"]+data_cc5_std[\"nmi_xc\"], alpha=0.2)\n",
    "    plt.hlines(y=ccres, xmin=0.1, xmax=3, linewidth=2, color='r', label='Fast-\\u03C4CC')\n",
    "    plt.fill_between(data_cc_means[\"model\"], ccres-ccstd, ccres+ccstd, alpha=0.2)\n",
    "    plt.xticks([0,0.2,0.4,0.6,0.8,1.0,1.5,2.0,2.5,3.0], fontsize=12)\n",
    "    plt.xlim(0, 3.0)\n",
    "    plt.title(f'{dataset}')\n",
    "    plt.legend(loc=\"best\")\n",
    "    plt.xlabel('privacy budget (\\u03b5)', fontsize=14)\n",
    "    plt.ylabel('NMI', fontsize=14)\n",
    "    plt.show()\n"
   ]
  }
 ],
 "metadata": {
  "kernelspec": {
   "display_name": ".venv",
   "language": "python",
   "name": "python3"
  },
  "language_info": {
   "codemirror_mode": {
    "name": "ipython",
    "version": 3
   },
   "file_extension": ".py",
   "mimetype": "text/x-python",
   "name": "python",
   "nbconvert_exporter": "python",
   "pygments_lexer": "ipython3",
   "version": "3.8.10"
  }
 },
 "nbformat": 4,
 "nbformat_minor": 2
}
