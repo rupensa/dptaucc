{
 "cells": [
  {
   "cell_type": "code",
   "execution_count": null,
   "metadata": {},
   "outputs": [],
   "source": [
    "import numpy as np\n",
    "import pandas as pd\n",
    "import os \n",
    "import glob \n",
    "import matplotlib.pyplot as plt\n",
    "import matplotlib.pyplot as plt\n",
    "import matplotlib.patheffects as PathEffects\n",
    "import scipy\n",
    "import csv"
   ]
  },
  {
   "cell_type": "code",
   "execution_count": null,
   "metadata": {},
   "outputs": [],
   "source": [
    "datasets = ['classic3', 'cstr', 'tr11', 'tr23', 'tr41', 'tr45', 'hitech', 'k1b', 'reviews', 'sports']\n",
    "iter_list = np.array([2,3,4,5,6,7,8,9,10])\n",
    "eps_list = np.array([.1, .2, .3, .4, .5, .6, .7, .8, .9, 1, 1.5,2,2.5,3,4.5,5,6,7,8,9,10])\n",
    "\n",
    "for dataset in datasets:\n",
    "    dptaucc_nmi_x = []\n",
    "    dptaucc_nmi_y = []\n",
    "    for n_iterations in iter_list:\n",
    "        path = os.getcwd()\n",
    "        path=os.path.join(path,\"output/dptaucc\")\n",
    "        f1=os.path.join(path,  f\"{dataset}_{n_iterations}_results.csv\")\n",
    "        data_cc = pd.read_csv(f1)\n",
    "        data_cc_means = data_cc.groupby(['model'], as_index=False).mean()\n",
    "        data_cc_std = data_cc.groupby(['model'], as_index=False).std()\n",
    "        dptaucc_nmi_x.append(data_cc_means['tau_x'])\n",
    "        dptaucc_nmi_y.append(data_cc_means['tau_y'])\n",
    "\n",
    "    nmi_x = np.array(dptaucc_nmi_x)\n",
    "    fig, ax = plt.subplots()\n",
    "    c = ax.pcolormesh(eps_list, iter_list, nmi_x, cmap='RdBu', vmin=nmi_x.min(), vmax=nmi_x.max())\n",
    "    ax.set_title(dataset, fontsize=14)\n",
    "    ax.axis([ eps_list.min(), eps_list.max(), iter_list.min(), iter_list.max()])\n",
    "    plt.xscale('log')\n",
    "    fig.colorbar(c, ax=ax)\n",
    "    plt.xlabel('\\u03b5 (log scale)', fontsize=14)\n",
    "    plt.ylabel(r'$\\mathcal{I}$ (number of iterations)', fontsize=14)\n",
    "    plt.show()"
   ]
  }
 ],
 "metadata": {
  "kernelspec": {
   "display_name": ".venv",
   "language": "python",
   "name": "python3"
  },
  "language_info": {
   "codemirror_mode": {
    "name": "ipython",
    "version": 3
   },
   "file_extension": ".py",
   "mimetype": "text/x-python",
   "name": "python",
   "nbconvert_exporter": "python",
   "pygments_lexer": "ipython3",
   "version": "3.8.10"
  }
 },
 "nbformat": 4,
 "nbformat_minor": 2
}
